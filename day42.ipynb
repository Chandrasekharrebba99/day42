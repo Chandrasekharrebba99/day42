{
 "cells": [
  {
   "cell_type": "markdown",
   "id": "54e5398a",
   "metadata": {},
   "source": [
    "# fibunaci in recurtion"
   ]
  },
  {
   "cell_type": "markdown",
   "id": "14ac325e",
   "metadata": {},
   "source": [
    "# n terms in fibunaci series"
   ]
  },
  {
   "cell_type": "code",
   "execution_count": 1,
   "id": "3993e059",
   "metadata": {},
   "outputs": [
    {
     "name": "stdout",
     "output_type": "stream",
     "text": [
      "7\n",
      "[0, 1, 1, 2, 3, 5, 8]\n"
     ]
    }
   ],
   "source": [
    "def fibonacci(n):\n",
    "    # Complete this function to return nth term in fibonacci series\n",
    "    if n <=1:\n",
    "        return n\n",
    "    else:\n",
    "        return fibonacci(n-1)+fibonacci(n-2)\n",
    "\n",
    "def get_fibonacci_series(n):\n",
    "    # Complete this function to return list of n terms of fibonacci series\n",
    "    Arr = []\n",
    "    for i in range(n):\n",
    "        Arr.append(fibonacci(i))\n",
    "    return Arr\n",
    "\n",
    "n = int(input())\n",
    "# Call the get_fibonacci_series function\n",
    "print(get_fibonacci_series(n))\n"
   ]
  },
  {
   "cell_type": "markdown",
   "id": "364c5fe2",
   "metadata": {},
   "source": [
    "# hacker rank problem"
   ]
  },
  {
   "cell_type": "code",
   "execution_count": null,
   "id": "c396a056",
   "metadata": {},
   "outputs": [],
   "source": [
    "finalarray  = []\n",
    "\n",
    "def findoperation(operater):\n",
    "    \n",
    "    operater = operater.split()\n",
    "    operation = operater[0]\n",
    "\n",
    "    \n",
    "    \n",
    "\n",
    "    if operation == \"insert\":\n",
    "        finalarray.insert(int(operater[1]),int(operater[2]))\n",
    "    elif operation == \"append\":\n",
    "        finalarray.append(int(operater[1]))\n",
    "    elif operation == \"pop\":\n",
    "        finalarray.pop()\n",
    "    elif operation == \"remove\":\n",
    "        finalarray.remove(int(operater[1]))\n",
    "    elif operation == \"sort\":\n",
    "        finalarray.sort()\n",
    "    elif operation == \"print\":\n",
    "        print(finalarray)\n",
    "\n",
    "\n",
    "n = int(input())\n",
    "for i in range(n):\n",
    "    operat = input()\n",
    "    findoperation(operat)"
   ]
  }
 ],
 "metadata": {
  "kernelspec": {
   "display_name": "Python 3 (ipykernel)",
   "language": "python",
   "name": "python3"
  },
  "language_info": {
   "codemirror_mode": {
    "name": "ipython",
    "version": 3
   },
   "file_extension": ".py",
   "mimetype": "text/x-python",
   "name": "python",
   "nbconvert_exporter": "python",
   "pygments_lexer": "ipython3",
   "version": "3.9.12"
  }
 },
 "nbformat": 4,
 "nbformat_minor": 5
}
